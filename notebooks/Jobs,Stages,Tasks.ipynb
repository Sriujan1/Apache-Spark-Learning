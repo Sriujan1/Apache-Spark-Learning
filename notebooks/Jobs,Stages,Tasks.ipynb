{
 "cells": [
  {
   "cell_type": "code",
   "execution_count": 1,
   "id": "53898975-9d9c-492a-bfa9-d7922c8da861",
   "metadata": {},
   "outputs": [],
   "source": [
    "import spark_env\n",
    "\n",
    "spark = spark_env.create_spark_session('jobs')"
   ]
  },
  {
   "cell_type": "code",
   "execution_count": 2,
   "id": "ce196956-2eb1-466d-b0da-81764668400b",
   "metadata": {},
   "outputs": [],
   "source": [
    "from pyspark.sql.functions import *\n",
    "from pyspark.sql.types import *"
   ]
  },
  {
   "cell_type": "code",
   "execution_count": 3,
   "id": "b9533462-3368-4a63-b5d3-c4c11058b791",
   "metadata": {},
   "outputs": [],
   "source": [
    "megamart_df = spark.read.format('csv')\\\n",
    "                        .option('header',True)\\\n",
    "                        .option('inferSchema',True)\\\n",
    "                        .load('MegaMart.csv')"
   ]
  },
  {
   "cell_type": "code",
   "execution_count": 4,
   "id": "4b83421d-830c-4f79-8db4-c910af303851",
   "metadata": {},
   "outputs": [
    {
     "name": "stdout",
     "output_type": "stream",
     "text": [
      "+--------+-------+----------+----------+----------------+------------+--------+--------------+--------------+------------+\n",
      "|order_id|user_id|order_date|product_id|product_category|product_name|quantity|price_per_unit|payment_method|order_status|\n",
      "+--------+-------+----------+----------+----------------+------------+--------+--------------+--------------+------------+\n",
      "|    1001|   U188|2025-04-20|      P940|         Fashion|    Sneakers|       2|         58.53|        PayPal|   Cancelled|\n",
      "|    1002|   U062|2025-04-16|      P794|         Fashion|     T-Shirt|       3|         83.76|           UPI|    Returned|\n",
      "|    1003|   U058|2025-04-18|      P326|         Fashion|  Sunglasses|       2|         78.85|        PayPal|  Processing|\n",
      "|    1004|   U011|2025-04-10|      P574|         Fashion|  Sunglasses|       5|         46.49|        PayPal|   Delivered|\n",
      "|    1005|   U003|2025-04-19|      P988|      Home Decor| Photo Frame|       2|         78.61|        PayPal|    Returned|\n",
      "+--------+-------+----------+----------+----------------+------------+--------+--------------+--------------+------------+\n",
      "only showing top 5 rows\n",
      "\n"
     ]
    }
   ],
   "source": [
    "megamart_df.show(5)"
   ]
  },
  {
   "cell_type": "code",
   "execution_count": 5,
   "id": "be320a2a-7366-4365-b14e-a005a5cc965f",
   "metadata": {},
   "outputs": [],
   "source": [
    "df = megamart_df.filter(col('product_name') == 'Sunglasses')\n",
    "df = df.select(\n",
    "        col('order_id'),\n",
    "        col('product_name'),\n",
    "        (col('quantity')*col('price_per_unit')).alias('revenue')\n",
    "    )\n",
    "df = df.groupBy(col('product_name')).agg(\n",
    "    count(col('order_id')).alias('total_orders'),\n",
    "    round(sum(col('revenue')),2).alias('total_revenue')\n",
    ")"
   ]
  },
  {
   "cell_type": "code",
   "execution_count": 6,
   "id": "39188e40-0fb9-487b-a307-8fd832031020",
   "metadata": {},
   "outputs": [
    {
     "name": "stdout",
     "output_type": "stream",
     "text": [
      "+------------+------------+-------------+\n",
      "|product_name|total_orders|total_revenue|\n",
      "+------------+------------+-------------+\n",
      "|  Sunglasses|          36|      6463.17|\n",
      "+------------+------------+-------------+\n",
      "\n"
     ]
    }
   ],
   "source": [
    "df.show()"
   ]
  },
  {
   "cell_type": "code",
   "execution_count": null,
   "id": "4fe2e64b-350d-4a0b-9a3a-084d5cfd0335",
   "metadata": {},
   "outputs": [],
   "source": []
  }
 ],
 "metadata": {
  "kernelspec": {
   "display_name": "Python 3 (ipykernel)",
   "language": "python",
   "name": "python3"
  },
  "language_info": {
   "codemirror_mode": {
    "name": "ipython",
    "version": 3
   },
   "file_extension": ".py",
   "mimetype": "text/x-python",
   "name": "python",
   "nbconvert_exporter": "python",
   "pygments_lexer": "ipython3",
   "version": "3.10.11"
  }
 },
 "nbformat": 4,
 "nbformat_minor": 5
}
