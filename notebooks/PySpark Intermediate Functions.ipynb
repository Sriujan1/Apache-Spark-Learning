{
 "cells": [
  {
   "cell_type": "code",
   "execution_count": 1,
   "id": "8070deb8-e3d9-402c-812c-c924517d35c2",
   "metadata": {},
   "outputs": [],
   "source": [
    "import spark_env\n",
    "\n",
    "spark = spark_env.create_spark_session('pyspark intermediate')"
   ]
  },
  {
   "cell_type": "code",
   "execution_count": 2,
   "id": "adaa72c0-63c2-4aa4-99a2-89f4f037aad6",
   "metadata": {},
   "outputs": [],
   "source": [
    "from pyspark.sql.functions import *\n",
    "from pyspark.sql.types import *"
   ]
  },
  {
   "cell_type": "code",
   "execution_count": 40,
   "id": "49f19aaf-bffd-4640-b848-3106a6015c5d",
   "metadata": {},
   "outputs": [],
   "source": [
    "df = spark.read.format('csv')\\\n",
    "                .option('inferSchema', True)\\\n",
    "                .option('header',True)\\\n",
    "                .load('Bigmart Sales.csv')"
   ]
  },
  {
   "cell_type": "markdown",
   "id": "b20a7bb3-c33b-47ec-89c0-204d1d7688c5",
   "metadata": {},
   "source": [
    "## Union and UnionByName"
   ]
  },
  {
   "cell_type": "code",
   "execution_count": 5,
   "id": "db899333-fea3-4ef9-b129-59d1f6cebb5a",
   "metadata": {},
   "outputs": [],
   "source": [
    "data1 = [\n",
    "    ('1','sid'),\n",
    "    ('2','kad')\n",
    "]\n",
    "schema = StructType([\n",
    "    StructField('id',StringType(),True),\n",
    "    StructField('name',StringType(),True),\n",
    "])\n",
    "\n",
    "data2 = [\n",
    "    ('3', 'Tim'),\n",
    "    ('4', 'Jim')\n",
    "]\n",
    "\n",
    "df1 = spark.createDataFrame(data1,schema)\n",
    "df2 = spark.createDataFrame(data2,schema)"
   ]
  },
  {
   "cell_type": "code",
   "execution_count": 6,
   "id": "b6f12b55-c77c-4ed3-94e4-ed3e2a8aa750",
   "metadata": {},
   "outputs": [
    {
     "name": "stdout",
     "output_type": "stream",
     "text": [
      "+---+----+\n",
      "| id|name|\n",
      "+---+----+\n",
      "|  1| sid|\n",
      "|  2| kad|\n",
      "+---+----+\n",
      "\n"
     ]
    }
   ],
   "source": [
    "df1.show()"
   ]
  },
  {
   "cell_type": "code",
   "execution_count": 7,
   "id": "37bb0dd4-bfa7-481d-b0cf-877b9fd43975",
   "metadata": {},
   "outputs": [
    {
     "name": "stdout",
     "output_type": "stream",
     "text": [
      "+---+----+\n",
      "| id|name|\n",
      "+---+----+\n",
      "|  3| Tim|\n",
      "|  4| Jim|\n",
      "+---+----+\n",
      "\n"
     ]
    }
   ],
   "source": [
    "df2.show()"
   ]
  },
  {
   "cell_type": "code",
   "execution_count": 15,
   "id": "5e58f848-721f-490b-8a87-a8b41f203ecf",
   "metadata": {},
   "outputs": [],
   "source": [
    "df_union = df1.union(df2)"
   ]
  },
  {
   "cell_type": "code",
   "execution_count": 13,
   "id": "11d8ef9d-f43d-4fce-88c4-0d66b1be4332",
   "metadata": {},
   "outputs": [],
   "source": [
    "data3 = [\n",
    "    ('hara','6'),\n",
    "    ('hari','7')\n",
    "]\n",
    "\n",
    "schema_ubn = StructType([\n",
    "    StructField('name',StringType(),True),\n",
    "    StructField('id',StringType(),True)\n",
    "])\n",
    "\n",
    "df3 = spark.createDataFrame(data3,schema_ubn)"
   ]
  },
  {
   "cell_type": "code",
   "execution_count": 14,
   "id": "6dfae081-6af2-4aa3-976f-44f8621eba5f",
   "metadata": {},
   "outputs": [
    {
     "name": "stdout",
     "output_type": "stream",
     "text": [
      "+----+---+\n",
      "|name| id|\n",
      "+----+---+\n",
      "|hara|  6|\n",
      "|hari|  7|\n",
      "+----+---+\n",
      "\n"
     ]
    }
   ],
   "source": [
    "df3.show()"
   ]
  },
  {
   "cell_type": "markdown",
   "id": "9fd9d6b4-b602-4054-945f-4f5bf85b1079",
   "metadata": {},
   "source": [
    "This gives incorrect union without checking the column names. This is not acceptable. That is why we need to use unionByName()"
   ]
  },
  {
   "cell_type": "code",
   "execution_count": 17,
   "id": "576b49c5-f08b-4c1e-9ce5-12119ac9154b",
   "metadata": {},
   "outputs": [
    {
     "name": "stdout",
     "output_type": "stream",
     "text": [
      "+----+----+\n",
      "|  id|name|\n",
      "+----+----+\n",
      "|   1| sid|\n",
      "|   2| kad|\n",
      "|   3| Tim|\n",
      "|   4| Jim|\n",
      "|hara|   6|\n",
      "|hari|   7|\n",
      "+----+----+\n",
      "\n"
     ]
    }
   ],
   "source": [
    "df_union.union(df3).show()"
   ]
  },
  {
   "cell_type": "code",
   "execution_count": 18,
   "id": "fd0e66a6-29bb-4024-8113-edb676dea30e",
   "metadata": {},
   "outputs": [
    {
     "name": "stdout",
     "output_type": "stream",
     "text": [
      "+---+----+\n",
      "| id|name|\n",
      "+---+----+\n",
      "|  1| sid|\n",
      "|  2| kad|\n",
      "|  3| Tim|\n",
      "|  4| Jim|\n",
      "|  6|hara|\n",
      "|  7|hari|\n",
      "+---+----+\n",
      "\n"
     ]
    }
   ],
   "source": [
    "df_union.unionByName(df3).show()"
   ]
  },
  {
   "cell_type": "markdown",
   "id": "defe6903-6591-4872-bf47-9640289c0190",
   "metadata": {},
   "source": [
    "## String Functions\n",
    "\n",
    "#### initCap(), upper(), lower()"
   ]
  },
  {
   "cell_type": "code",
   "execution_count": 20,
   "id": "7e68d92d-be73-44ac-9dc0-efff4719c2d9",
   "metadata": {},
   "outputs": [
    {
     "name": "stdout",
     "output_type": "stream",
     "text": [
      "+--------------------+\n",
      "|  initcap(Item_Type)|\n",
      "+--------------------+\n",
      "|               Dairy|\n",
      "|         Soft Drinks|\n",
      "|                Meat|\n",
      "|Fruits And Vegeta...|\n",
      "|           Household|\n",
      "|        Baking Goods|\n",
      "|         Snack Foods|\n",
      "|         Snack Foods|\n",
      "|        Frozen Foods|\n",
      "|        Frozen Foods|\n",
      "|Fruits And Vegeta...|\n",
      "|               Dairy|\n",
      "|Fruits And Vegeta...|\n",
      "|         Snack Foods|\n",
      "|Fruits And Vegeta...|\n",
      "|           Breakfast|\n",
      "|  Health And Hygiene|\n",
      "|           Breakfast|\n",
      "|         Hard Drinks|\n",
      "|               Dairy|\n",
      "+--------------------+\n",
      "only showing top 20 rows\n",
      "\n"
     ]
    }
   ],
   "source": [
    "df.select(initcap(col('Item_Type'))).show()"
   ]
  },
  {
   "cell_type": "code",
   "execution_count": 21,
   "id": "9079c9db-4455-46cd-8421-b2b3d4b95b9a",
   "metadata": {},
   "outputs": [
    {
     "name": "stdout",
     "output_type": "stream",
     "text": [
      "+--------------------+\n",
      "|    upper(Item_Type)|\n",
      "+--------------------+\n",
      "|               DAIRY|\n",
      "|         SOFT DRINKS|\n",
      "|                MEAT|\n",
      "|FRUITS AND VEGETA...|\n",
      "|           HOUSEHOLD|\n",
      "|        BAKING GOODS|\n",
      "|         SNACK FOODS|\n",
      "|         SNACK FOODS|\n",
      "|        FROZEN FOODS|\n",
      "|        FROZEN FOODS|\n",
      "|FRUITS AND VEGETA...|\n",
      "|               DAIRY|\n",
      "|FRUITS AND VEGETA...|\n",
      "|         SNACK FOODS|\n",
      "|FRUITS AND VEGETA...|\n",
      "|           BREAKFAST|\n",
      "|  HEALTH AND HYGIENE|\n",
      "|           BREAKFAST|\n",
      "|         HARD DRINKS|\n",
      "|               DAIRY|\n",
      "+--------------------+\n",
      "only showing top 20 rows\n",
      "\n"
     ]
    }
   ],
   "source": [
    "df.select(upper(col('Item_Type'))).show()"
   ]
  },
  {
   "cell_type": "code",
   "execution_count": 24,
   "id": "e5aef668-532a-4e7d-93b1-4d97b352a9ce",
   "metadata": {},
   "outputs": [
    {
     "name": "stdout",
     "output_type": "stream",
     "text": [
      "+--------------------+\n",
      "|     Lower Item_Type|\n",
      "+--------------------+\n",
      "|               dairy|\n",
      "|         soft drinks|\n",
      "|                meat|\n",
      "|fruits and vegeta...|\n",
      "|           household|\n",
      "|        baking goods|\n",
      "|         snack foods|\n",
      "|         snack foods|\n",
      "|        frozen foods|\n",
      "|        frozen foods|\n",
      "|fruits and vegeta...|\n",
      "|               dairy|\n",
      "|fruits and vegeta...|\n",
      "|         snack foods|\n",
      "|fruits and vegeta...|\n",
      "|           breakfast|\n",
      "|  health and hygiene|\n",
      "|           breakfast|\n",
      "|         hard drinks|\n",
      "|               dairy|\n",
      "+--------------------+\n",
      "only showing top 20 rows\n",
      "\n"
     ]
    }
   ],
   "source": [
    "df.select(lower(col('Item_Type')).alias('Lower Item_Type')).show()"
   ]
  },
  {
   "cell_type": "markdown",
   "id": "a19f4357-7373-4382-a4ec-48b9e0d677ed",
   "metadata": {},
   "source": [
    "## Date Functions\n",
    "\n",
    "1. current_date()\n",
    "2. date_add()\n",
    "3. date_sub()\n",
    "4. date_diff()\n",
    "5. date_format()"
   ]
  },
  {
   "cell_type": "code",
   "execution_count": 41,
   "id": "a8164dc4-3c95-44a4-8d43-c7d67685bf42",
   "metadata": {},
   "outputs": [
    {
     "name": "stdout",
     "output_type": "stream",
     "text": [
      "+---------------+-----------+----------------+---------------+-----------+--------+-----------------+-------------------------+-----------+--------------------+-----------------+-----------------+------------+\n",
      "|Item_Identifier|Item_Weight|Item_Fat_Content|Item_Visibility|  Item_Type|Item_MRP|Outlet_Identifier|Outlet_Establishment_Year|Outlet_Size|Outlet_Location_Type|      Outlet_Type|Item_Outlet_Sales|current_date|\n",
      "+---------------+-----------+----------------+---------------+-----------+--------+-----------------+-------------------------+-----------+--------------------+-----------------+-----------------+------------+\n",
      "|          FDA15|        9.3|         Low Fat|    0.016047301|      Dairy|249.8092|           OUT049|                     1999|     Medium|              Tier 1|Supermarket Type1|         3735.138|  2025-07-12|\n",
      "|          DRC01|       5.92|         Regular|    0.019278216|Soft Drinks| 48.2692|           OUT018|                     2009|     Medium|              Tier 3|Supermarket Type2|         443.4228|  2025-07-12|\n",
      "+---------------+-----------+----------------+---------------+-----------+--------+-----------------+-------------------------+-----------+--------------------+-----------------+-----------------+------------+\n",
      "only showing top 2 rows\n",
      "\n"
     ]
    }
   ],
   "source": [
    "df = df.withColumn('current_date',current_date())\n",
    "df.show(2)"
   ]
  },
  {
   "cell_type": "code",
   "execution_count": 44,
   "id": "c2426580-537f-4114-bcd7-9ce5a90d301c",
   "metadata": {},
   "outputs": [
    {
     "name": "stdout",
     "output_type": "stream",
     "text": [
      "+---------------+-----------+----------------+---------------+-----------+--------+-----------------+-------------------------+-----------+--------------------+-----------------+-----------------+------------+----------+\n",
      "|Item_Identifier|Item_Weight|Item_Fat_Content|Item_Visibility|  Item_Type|Item_MRP|Outlet_Identifier|Outlet_Establishment_Year|Outlet_Size|Outlet_Location_Type|      Outlet_Type|Item_Outlet_Sales|current_date|week_later|\n",
      "+---------------+-----------+----------------+---------------+-----------+--------+-----------------+-------------------------+-----------+--------------------+-----------------+-----------------+------------+----------+\n",
      "|          FDA15|        9.3|         Low Fat|    0.016047301|      Dairy|249.8092|           OUT049|                     1999|     Medium|              Tier 1|Supermarket Type1|         3735.138|  2025-07-12|2025-07-19|\n",
      "|          DRC01|       5.92|         Regular|    0.019278216|Soft Drinks| 48.2692|           OUT018|                     2009|     Medium|              Tier 3|Supermarket Type2|         443.4228|  2025-07-12|2025-07-19|\n",
      "+---------------+-----------+----------------+---------------+-----------+--------+-----------------+-------------------------+-----------+--------------------+-----------------+-----------------+------------+----------+\n",
      "only showing top 2 rows\n",
      "\n"
     ]
    }
   ],
   "source": [
    "df = df.withColumn('week_later',date_add('current_date',7))\n",
    "df.show(2)"
   ]
  },
  {
   "cell_type": "code",
   "execution_count": 48,
   "id": "5f07265b-63ad-4d8b-a5cd-4444674b3fe1",
   "metadata": {},
   "outputs": [
    {
     "name": "stdout",
     "output_type": "stream",
     "text": [
      "+---------------+-----------+----------------+---------------+-----------+--------+-----------------+-------------------------+-----------+--------------------+-----------------+-----------------+------------+----------+-----------+\n",
      "|Item_Identifier|Item_Weight|Item_Fat_Content|Item_Visibility|  Item_Type|Item_MRP|Outlet_Identifier|Outlet_Establishment_Year|Outlet_Size|Outlet_Location_Type|      Outlet_Type|Item_Outlet_Sales|current_date|week_later|week_before|\n",
      "+---------------+-----------+----------------+---------------+-----------+--------+-----------------+-------------------------+-----------+--------------------+-----------------+-----------------+------------+----------+-----------+\n",
      "|          FDA15|        9.3|         Low Fat|    0.016047301|      Dairy|249.8092|           OUT049|                     1999|     Medium|              Tier 1|Supermarket Type1|         3735.138|  2025-07-12|2025-07-19| 2025-07-05|\n",
      "|          DRC01|       5.92|         Regular|    0.019278216|Soft Drinks| 48.2692|           OUT018|                     2009|     Medium|              Tier 3|Supermarket Type2|         443.4228|  2025-07-12|2025-07-19| 2025-07-05|\n",
      "+---------------+-----------+----------------+---------------+-----------+--------+-----------------+-------------------------+-----------+--------------------+-----------------+-----------------+------------+----------+-----------+\n",
      "only showing top 2 rows\n",
      "\n"
     ]
    }
   ],
   "source": [
    "df = df.withColumn('week_before',date_sub('current_date',7))\n",
    "df.show(2)"
   ]
  },
  {
   "cell_type": "code",
   "execution_count": 50,
   "id": "7fd60823-ea96-44bb-8db9-3bcc5c9e56c1",
   "metadata": {},
   "outputs": [
    {
     "name": "stdout",
     "output_type": "stream",
     "text": [
      "+---------------+-----------+----------------+---------------+-----------+--------+-----------------+-------------------------+-----------+--------------------+-----------------+-----------------+------------+----------+-----------+-------------------+\n",
      "|Item_Identifier|Item_Weight|Item_Fat_Content|Item_Visibility|  Item_Type|Item_MRP|Outlet_Identifier|Outlet_Establishment_Year|Outlet_Size|Outlet_Location_Type|      Outlet_Type|Item_Outlet_Sales|current_date|week_later|week_before|difference_of_dates|\n",
      "+---------------+-----------+----------------+---------------+-----------+--------+-----------------+-------------------------+-----------+--------------------+-----------------+-----------------+------------+----------+-----------+-------------------+\n",
      "|          FDA15|        9.3|         Low Fat|    0.016047301|      Dairy|249.8092|           OUT049|                     1999|     Medium|              Tier 1|Supermarket Type1|         3735.138|  2025-07-12|2025-07-19| 2025-07-05|                 14|\n",
      "|          DRC01|       5.92|         Regular|    0.019278216|Soft Drinks| 48.2692|           OUT018|                     2009|     Medium|              Tier 3|Supermarket Type2|         443.4228|  2025-07-12|2025-07-19| 2025-07-05|                 14|\n",
      "+---------------+-----------+----------------+---------------+-----------+--------+-----------------+-------------------------+-----------+--------------------+-----------------+-----------------+------------+----------+-----------+-------------------+\n",
      "only showing top 2 rows\n",
      "\n"
     ]
    }
   ],
   "source": [
    "df = df.withColumn('difference_of_dates',date_diff(col('week_later'),col('week_before')))\n",
    "df.show(2)"
   ]
  },
  {
   "cell_type": "code",
   "execution_count": 52,
   "id": "f05ba8de-602e-48e9-96c9-f55b8229e126",
   "metadata": {},
   "outputs": [
    {
     "name": "stdout",
     "output_type": "stream",
     "text": [
      "+---------------+-----------+----------------+---------------+-----------+--------+-----------------+-------------------------+-----------+--------------------+-----------------+-----------------+------------+----------+-----------+-------------------+\n",
      "|Item_Identifier|Item_Weight|Item_Fat_Content|Item_Visibility|  Item_Type|Item_MRP|Outlet_Identifier|Outlet_Establishment_Year|Outlet_Size|Outlet_Location_Type|      Outlet_Type|Item_Outlet_Sales|current_date|week_later|week_before|difference_of_dates|\n",
      "+---------------+-----------+----------------+---------------+-----------+--------+-----------------+-------------------------+-----------+--------------------+-----------------+-----------------+------------+----------+-----------+-------------------+\n",
      "|          FDA15|        9.3|         Low Fat|    0.016047301|      Dairy|249.8092|           OUT049|                     1999|     Medium|              Tier 1|Supermarket Type1|         3735.138|  07-12-2025|2025-07-19| 2025-07-05|                 14|\n",
      "|          DRC01|       5.92|         Regular|    0.019278216|Soft Drinks| 48.2692|           OUT018|                     2009|     Medium|              Tier 3|Supermarket Type2|         443.4228|  07-12-2025|2025-07-19| 2025-07-05|                 14|\n",
      "+---------------+-----------+----------------+---------------+-----------+--------+-----------------+-------------------------+-----------+--------------------+-----------------+-----------------+------------+----------+-----------+-------------------+\n",
      "only showing top 2 rows\n",
      "\n"
     ]
    }
   ],
   "source": [
    "df = df.withColumn('current_date',date_format('current_date','MM-dd-yyyy'))\n",
    "df.show(2)"
   ]
  },
  {
   "cell_type": "markdown",
   "id": "4f325701-60a6-4077-8fbb-1a2626a986d9",
   "metadata": {},
   "source": [
    "## Handling Null Values\n",
    "\n",
    "1. Dropping Nulls\n",
    "- dropna('all') -> Drops rows with all the values as null\n",
    "- dropna('any') -> Drops rows with any value in the row that is null\n",
    "- dropna(subset=[]) -> Drops rows for the null values in the column mentioned in the subset\n",
    "2. Filling Nulls\n",
    "- fillna(value) -> Replaces all the null values in the date with the value given\n",
    "- fillna(value, subset=[]) -> Replaces the values only in the specified column"
   ]
  },
  {
   "cell_type": "code",
   "execution_count": 53,
   "id": "5531ba80-3eb7-4200-a347-a79bf63c1097",
   "metadata": {},
   "outputs": [
    {
     "data": {
      "text/plain": [
       "8523"
      ]
     },
     "execution_count": 53,
     "metadata": {},
     "output_type": "execute_result"
    }
   ],
   "source": [
    "df.dropna('all').count()"
   ]
  },
  {
   "cell_type": "code",
   "execution_count": 54,
   "id": "06000e52-4d69-45cc-8545-68e60bed3627",
   "metadata": {},
   "outputs": [
    {
     "data": {
      "text/plain": [
       "4650"
      ]
     },
     "execution_count": 54,
     "metadata": {},
     "output_type": "execute_result"
    }
   ],
   "source": [
    "df.dropna('any').count()"
   ]
  },
  {
   "cell_type": "code",
   "execution_count": 55,
   "id": "8717edaa-8b13-480f-9770-00a4e485dfc8",
   "metadata": {},
   "outputs": [
    {
     "data": {
      "text/plain": [
       "6113"
      ]
     },
     "execution_count": 55,
     "metadata": {},
     "output_type": "execute_result"
    }
   ],
   "source": [
    "df.dropna(subset=['Outlet_Size']).count()"
   ]
  },
  {
   "cell_type": "code",
   "execution_count": 56,
   "id": "cb4d2bf2-4732-4344-be9b-1e3528e8f30b",
   "metadata": {},
   "outputs": [
    {
     "name": "stdout",
     "output_type": "stream",
     "text": [
      "+---------------+-----------+----------------+---------------+--------------------+--------+-----------------+-------------------------+-------------+--------------------+-----------------+-----------------+------------+----------+-----------+-------------------+\n",
      "|Item_Identifier|Item_Weight|Item_Fat_Content|Item_Visibility|           Item_Type|Item_MRP|Outlet_Identifier|Outlet_Establishment_Year|  Outlet_Size|Outlet_Location_Type|      Outlet_Type|Item_Outlet_Sales|current_date|week_later|week_before|difference_of_dates|\n",
      "+---------------+-----------+----------------+---------------+--------------------+--------+-----------------+-------------------------+-------------+--------------------+-----------------+-----------------+------------+----------+-----------+-------------------+\n",
      "|          FDA15|        9.3|         Low Fat|    0.016047301|               Dairy|249.8092|           OUT049|                     1999|       Medium|              Tier 1|Supermarket Type1|         3735.138|  07-12-2025|2025-07-19| 2025-07-05|                 14|\n",
      "|          DRC01|       5.92|         Regular|    0.019278216|         Soft Drinks| 48.2692|           OUT018|                     2009|       Medium|              Tier 3|Supermarket Type2|         443.4228|  07-12-2025|2025-07-19| 2025-07-05|                 14|\n",
      "|          FDN15|       17.5|         Low Fat|    0.016760075|                Meat| 141.618|           OUT049|                     1999|       Medium|              Tier 1|Supermarket Type1|          2097.27|  07-12-2025|2025-07-19| 2025-07-05|                 14|\n",
      "|          FDX07|       19.2|         Regular|            0.0|Fruits and Vegeta...| 182.095|           OUT010|                     1998|Not Available|              Tier 3|    Grocery Store|           732.38|  07-12-2025|2025-07-19| 2025-07-05|                 14|\n",
      "|          NCD19|       8.93|         Low Fat|            0.0|           Household| 53.8614|           OUT013|                     1987|         High|              Tier 3|Supermarket Type1|         994.7052|  07-12-2025|2025-07-19| 2025-07-05|                 14|\n",
      "|          FDP36|     10.395|         Regular|            0.0|        Baking Goods| 51.4008|           OUT018|                     2009|       Medium|              Tier 3|Supermarket Type2|         556.6088|  07-12-2025|2025-07-19| 2025-07-05|                 14|\n",
      "|          FDO10|      13.65|         Regular|    0.012741089|         Snack Foods| 57.6588|           OUT013|                     1987|         High|              Tier 3|Supermarket Type1|         343.5528|  07-12-2025|2025-07-19| 2025-07-05|                 14|\n",
      "|          FDP10|       NULL|         Low Fat|    0.127469857|         Snack Foods|107.7622|           OUT027|                     1985|       Medium|              Tier 3|Supermarket Type3|        4022.7636|  07-12-2025|2025-07-19| 2025-07-05|                 14|\n",
      "|          FDH17|       16.2|         Regular|    0.016687114|        Frozen Foods| 96.9726|           OUT045|                     2002|Not Available|              Tier 2|Supermarket Type1|        1076.5986|  07-12-2025|2025-07-19| 2025-07-05|                 14|\n",
      "|          FDU28|       19.2|         Regular|     0.09444959|        Frozen Foods|187.8214|           OUT017|                     2007|Not Available|              Tier 2|Supermarket Type1|         4710.535|  07-12-2025|2025-07-19| 2025-07-05|                 14|\n",
      "+---------------+-----------+----------------+---------------+--------------------+--------+-----------------+-------------------------+-------------+--------------------+-----------------+-----------------+------------+----------+-----------+-------------------+\n",
      "only showing top 10 rows\n",
      "\n"
     ]
    }
   ],
   "source": [
    "df.fillna('Not Available').show(10)"
   ]
  },
  {
   "cell_type": "code",
   "execution_count": 59,
   "id": "6a007a43-f762-4604-a10b-3cb55dd7d287",
   "metadata": {},
   "outputs": [
    {
     "name": "stdout",
     "output_type": "stream",
     "text": [
      "+---------------+-----------+----------------+---------------+--------------------+--------+-----------------+-------------------------+-------------+--------------------+-----------------+-----------------+------------+----------+-----------+-------------------+\n",
      "|Item_Identifier|Item_Weight|Item_Fat_Content|Item_Visibility|           Item_Type|Item_MRP|Outlet_Identifier|Outlet_Establishment_Year|  Outlet_Size|Outlet_Location_Type|      Outlet_Type|Item_Outlet_Sales|current_date|week_later|week_before|difference_of_dates|\n",
      "+---------------+-----------+----------------+---------------+--------------------+--------+-----------------+-------------------------+-------------+--------------------+-----------------+-----------------+------------+----------+-----------+-------------------+\n",
      "|          FDA15|        9.3|         Low Fat|    0.016047301|               Dairy|249.8092|           OUT049|                     1999|       Medium|              Tier 1|Supermarket Type1|         3735.138|  07-12-2025|2025-07-19| 2025-07-05|                 14|\n",
      "|          DRC01|       5.92|         Regular|    0.019278216|         Soft Drinks| 48.2692|           OUT018|                     2009|       Medium|              Tier 3|Supermarket Type2|         443.4228|  07-12-2025|2025-07-19| 2025-07-05|                 14|\n",
      "|          FDN15|       17.5|         Low Fat|    0.016760075|                Meat| 141.618|           OUT049|                     1999|       Medium|              Tier 1|Supermarket Type1|          2097.27|  07-12-2025|2025-07-19| 2025-07-05|                 14|\n",
      "|          FDX07|       19.2|         Regular|            0.0|Fruits and Vegeta...| 182.095|           OUT010|                     1998|Not Available|              Tier 3|    Grocery Store|           732.38|  07-12-2025|2025-07-19| 2025-07-05|                 14|\n",
      "|          NCD19|       8.93|         Low Fat|            0.0|           Household| 53.8614|           OUT013|                     1987|         High|              Tier 3|Supermarket Type1|         994.7052|  07-12-2025|2025-07-19| 2025-07-05|                 14|\n",
      "+---------------+-----------+----------------+---------------+--------------------+--------+-----------------+-------------------------+-------------+--------------------+-----------------+-----------------+------------+----------+-----------+-------------------+\n",
      "only showing top 5 rows\n",
      "\n"
     ]
    }
   ],
   "source": [
    "df.fillna('Not Available', subset=['Outlet_Size']).show(5)"
   ]
  },
  {
   "cell_type": "markdown",
   "id": "49ffb84b-afff-4f78-8c5d-2736168b1e8e",
   "metadata": {},
   "source": [
    "## String Functions"
   ]
  },
  {
   "cell_type": "markdown",
   "id": "46a98ba2-1d0d-4f09-8151-3ce36fee7b1c",
   "metadata": {},
   "source": [
    "### Split and Indexing\n",
    "\n",
    "1. Split the values in Outlet_Type and then take the second value and replace the value for the Outlet_Type column."
   ]
  },
  {
   "cell_type": "code",
   "execution_count": 62,
   "id": "12b07679-d6bd-4c72-9e7d-709657273705",
   "metadata": {},
   "outputs": [
    {
     "name": "stdout",
     "output_type": "stream",
     "text": [
      "+---------------+-----------+----------------+---------------+--------------------+--------+-----------------+-------------------------+-----------+--------------------+-----------+-----------------+------------+----------+-----------+-------------------+\n",
      "|Item_Identifier|Item_Weight|Item_Fat_Content|Item_Visibility|           Item_Type|Item_MRP|Outlet_Identifier|Outlet_Establishment_Year|Outlet_Size|Outlet_Location_Type|Outlet_Type|Item_Outlet_Sales|current_date|week_later|week_before|difference_of_dates|\n",
      "+---------------+-----------+----------------+---------------+--------------------+--------+-----------------+-------------------------+-----------+--------------------+-----------+-----------------+------------+----------+-----------+-------------------+\n",
      "|          FDA15|        9.3|         Low Fat|    0.016047301|               Dairy|249.8092|           OUT049|                     1999|     Medium|              Tier 1|      Type1|         3735.138|  07-12-2025|2025-07-19| 2025-07-05|                 14|\n",
      "|          DRC01|       5.92|         Regular|    0.019278216|         Soft Drinks| 48.2692|           OUT018|                     2009|     Medium|              Tier 3|      Type2|         443.4228|  07-12-2025|2025-07-19| 2025-07-05|                 14|\n",
      "|          FDN15|       17.5|         Low Fat|    0.016760075|                Meat| 141.618|           OUT049|                     1999|     Medium|              Tier 1|      Type1|          2097.27|  07-12-2025|2025-07-19| 2025-07-05|                 14|\n",
      "|          FDX07|       19.2|         Regular|            0.0|Fruits and Vegeta...| 182.095|           OUT010|                     1998|       NULL|              Tier 3|      Store|           732.38|  07-12-2025|2025-07-19| 2025-07-05|                 14|\n",
      "|          NCD19|       8.93|         Low Fat|            0.0|           Household| 53.8614|           OUT013|                     1987|       High|              Tier 3|      Type1|         994.7052|  07-12-2025|2025-07-19| 2025-07-05|                 14|\n",
      "+---------------+-----------+----------------+---------------+--------------------+--------+-----------------+-------------------------+-----------+--------------------+-----------+-----------------+------------+----------+-----------+-------------------+\n",
      "only showing top 5 rows\n",
      "\n"
     ]
    }
   ],
   "source": [
    "df.withColumn('Outlet_Type',split('Outlet_Type',' ')[1]).show(5)"
   ]
  },
  {
   "cell_type": "markdown",
   "id": "e26dc298-a49b-4720-abdf-2057eb1188dd",
   "metadata": {},
   "source": [
    "### Explode\n",
    "If the value in a column is in array, we can use explode() to create different rows for each value in the list"
   ]
  },
  {
   "cell_type": "code",
   "execution_count": 63,
   "id": "0d498acd-7140-4d68-a746-f7f62004f480",
   "metadata": {},
   "outputs": [
    {
     "name": "stdout",
     "output_type": "stream",
     "text": [
      "+---------------+-----------+----------------+---------------+-----------+--------+-----------------+-------------------------+-----------+--------------------+-----------+-----------------+------------+----------+-----------+-------------------+\n",
      "|Item_Identifier|Item_Weight|Item_Fat_Content|Item_Visibility|  Item_Type|Item_MRP|Outlet_Identifier|Outlet_Establishment_Year|Outlet_Size|Outlet_Location_Type|Outlet_Type|Item_Outlet_Sales|current_date|week_later|week_before|difference_of_dates|\n",
      "+---------------+-----------+----------------+---------------+-----------+--------+-----------------+-------------------------+-----------+--------------------+-----------+-----------------+------------+----------+-----------+-------------------+\n",
      "|          FDA15|        9.3|         Low Fat|    0.016047301|      Dairy|249.8092|           OUT049|                     1999|     Medium|              Tier 1|Supermarket|         3735.138|  07-12-2025|2025-07-19| 2025-07-05|                 14|\n",
      "|          FDA15|        9.3|         Low Fat|    0.016047301|      Dairy|249.8092|           OUT049|                     1999|     Medium|              Tier 1|      Type1|         3735.138|  07-12-2025|2025-07-19| 2025-07-05|                 14|\n",
      "|          DRC01|       5.92|         Regular|    0.019278216|Soft Drinks| 48.2692|           OUT018|                     2009|     Medium|              Tier 3|Supermarket|         443.4228|  07-12-2025|2025-07-19| 2025-07-05|                 14|\n",
      "|          DRC01|       5.92|         Regular|    0.019278216|Soft Drinks| 48.2692|           OUT018|                     2009|     Medium|              Tier 3|      Type2|         443.4228|  07-12-2025|2025-07-19| 2025-07-05|                 14|\n",
      "|          FDN15|       17.5|         Low Fat|    0.016760075|       Meat| 141.618|           OUT049|                     1999|     Medium|              Tier 1|Supermarket|          2097.27|  07-12-2025|2025-07-19| 2025-07-05|                 14|\n",
      "+---------------+-----------+----------------+---------------+-----------+--------+-----------------+-------------------------+-----------+--------------------+-----------+-----------------+------------+----------+-----------+-------------------+\n",
      "only showing top 5 rows\n",
      "\n"
     ]
    }
   ],
   "source": [
    "df.withColumn('Outlet_Type',split('Outlet_Type',' '))\\\n",
    "    .withColumn('Outlet_Type',explode('Outlet_Type')).show(5)"
   ]
  },
  {
   "cell_type": "markdown",
   "id": "9a556f72-636f-435b-b518-f0297603106c",
   "metadata": {},
   "source": [
    "### Array_Contains\n",
    "Check if a value is present in an array in the column"
   ]
  },
  {
   "cell_type": "code",
   "execution_count": 64,
   "id": "ef5aa5c3-9c0b-4e7b-a569-314f1c1a6642",
   "metadata": {},
   "outputs": [
    {
     "name": "stdout",
     "output_type": "stream",
     "text": [
      "+---------------+-----------+----------------+---------------+--------------------+--------+-----------------+-------------------------+-----------+--------------------+--------------------+-----------------+------------+----------+-----------+-------------------+----------+\n",
      "|Item_Identifier|Item_Weight|Item_Fat_Content|Item_Visibility|           Item_Type|Item_MRP|Outlet_Identifier|Outlet_Establishment_Year|Outlet_Size|Outlet_Location_Type|         Outlet_Type|Item_Outlet_Sales|current_date|week_later|week_before|difference_of_dates|Type1_flag|\n",
      "+---------------+-----------+----------------+---------------+--------------------+--------+-----------------+-------------------------+-----------+--------------------+--------------------+-----------------+------------+----------+-----------+-------------------+----------+\n",
      "|          FDA15|        9.3|         Low Fat|    0.016047301|               Dairy|249.8092|           OUT049|                     1999|     Medium|              Tier 1|[Supermarket, Type1]|         3735.138|  07-12-2025|2025-07-19| 2025-07-05|                 14|      true|\n",
      "|          DRC01|       5.92|         Regular|    0.019278216|         Soft Drinks| 48.2692|           OUT018|                     2009|     Medium|              Tier 3|[Supermarket, Type2]|         443.4228|  07-12-2025|2025-07-19| 2025-07-05|                 14|     false|\n",
      "|          FDN15|       17.5|         Low Fat|    0.016760075|                Meat| 141.618|           OUT049|                     1999|     Medium|              Tier 1|[Supermarket, Type1]|          2097.27|  07-12-2025|2025-07-19| 2025-07-05|                 14|      true|\n",
      "|          FDX07|       19.2|         Regular|            0.0|Fruits and Vegeta...| 182.095|           OUT010|                     1998|       NULL|              Tier 3|    [Grocery, Store]|           732.38|  07-12-2025|2025-07-19| 2025-07-05|                 14|     false|\n",
      "|          NCD19|       8.93|         Low Fat|            0.0|           Household| 53.8614|           OUT013|                     1987|       High|              Tier 3|[Supermarket, Type1]|         994.7052|  07-12-2025|2025-07-19| 2025-07-05|                 14|      true|\n",
      "+---------------+-----------+----------------+---------------+--------------------+--------+-----------------+-------------------------+-----------+--------------------+--------------------+-----------------+------------+----------+-----------+-------------------+----------+\n",
      "only showing top 5 rows\n",
      "\n"
     ]
    }
   ],
   "source": [
    "df.withColumn('Outlet_Type',split('Outlet_Type',' '))\\\n",
    "    .withColumn('Type1_flag',array_contains('Outlet_Type','Type1')).show(5)"
   ]
  },
  {
   "cell_type": "markdown",
   "id": "3acdfd91-d044-4087-b5b1-c03b17c37df7",
   "metadata": {},
   "source": [
    "## Group_By"
   ]
  },
  {
   "cell_type": "code",
   "execution_count": 69,
   "id": "74b4a0b7-40b2-4b3f-8ac2-8ea3861c92a8",
   "metadata": {},
   "outputs": [
    {
     "name": "stdout",
     "output_type": "stream",
     "text": [
      "+--------------------+---------+\n",
      "|           Item_Type|Total MRP|\n",
      "+--------------------+---------+\n",
      "|       Starchy Foods| 21880.03|\n",
      "|        Baking Goods| 81894.74|\n",
      "|              Breads| 35379.12|\n",
      "|Fruits and Vegeta...|178124.08|\n",
      "|                Meat| 59449.86|\n",
      "|         Hard Drinks| 29334.68|\n",
      "|         Soft Drinks| 58514.16|\n",
      "|           Household|135976.53|\n",
      "|           Breakfast|  15596.7|\n",
      "|               Dairy|101276.46|\n",
      "|         Snack Foods|175433.92|\n",
      "|              Others| 22451.89|\n",
      "|             Seafood|  9077.87|\n",
      "|              Canned| 90706.73|\n",
      "|        Frozen Foods|118558.88|\n",
      "|  Health and Hygiene| 68025.84|\n",
      "+--------------------+---------+\n",
      "\n"
     ]
    }
   ],
   "source": [
    "# Find the sum of the Item_MRP by each Item_Type\n",
    "df.groupBy('Item_Type').agg(round(sum(col('Item_MRP')),2).alias('Total MRP')).show()"
   ]
  },
  {
   "cell_type": "code",
   "execution_count": 71,
   "id": "418eff84-a709-4200-bf35-9156816d1c32",
   "metadata": {},
   "outputs": [
    {
     "name": "stdout",
     "output_type": "stream",
     "text": [
      "+--------------------+---------+\n",
      "|           Item_Type|Total MRP|\n",
      "+--------------------+---------+\n",
      "|       Starchy Foods|   147.84|\n",
      "|        Baking Goods|   126.38|\n",
      "|              Breads|   140.95|\n",
      "|Fruits and Vegeta...|   144.58|\n",
      "|                Meat|   139.88|\n",
      "|         Hard Drinks|   137.08|\n",
      "|         Soft Drinks|   131.49|\n",
      "|           Household|   149.42|\n",
      "|           Breakfast|   141.79|\n",
      "|               Dairy|    148.5|\n",
      "|         Snack Foods|   146.19|\n",
      "|              Others|   132.85|\n",
      "|             Seafood|   141.84|\n",
      "|              Canned|   139.76|\n",
      "|        Frozen Foods|    138.5|\n",
      "|  Health and Hygiene|   130.82|\n",
      "+--------------------+---------+\n",
      "\n"
     ]
    }
   ],
   "source": [
    "# Find the average of the Item_MRP by each Item_Type\n",
    "df.groupBy('Item_Type').agg(round(avg(col('Item_MRP')),2).alias('Total MRP')).show()"
   ]
  },
  {
   "cell_type": "code",
   "execution_count": 73,
   "id": "ab46a983-5780-4a90-bfea-b2f3a99aea3d",
   "metadata": {},
   "outputs": [
    {
     "name": "stdout",
     "output_type": "stream",
     "text": [
      "+--------------------+-----------+---------+\n",
      "|           Item_Type|Outlet_Size|Total MRP|\n",
      "+--------------------+-----------+---------+\n",
      "|       Starchy Foods|     Medium|  7124.14|\n",
      "|Fruits and Vegeta...|     Medium| 59047.22|\n",
      "|        Frozen Foods|       High| 12588.29|\n",
      "|         Soft Drinks|       High|  6456.17|\n",
      "|           Breakfast|      Small|  3917.04|\n",
      "|                Meat|     Medium| 20326.45|\n",
      "|Fruits and Vegeta...|       High| 20671.35|\n",
      "|                Meat|       High|  5627.04|\n",
      "|        Baking Goods|       High|  9431.75|\n",
      "|           Household|     Medium| 42688.57|\n",
      "|         Hard Drinks|      Small|  6487.94|\n",
      "|               Dairy|       High| 12280.73|\n",
      "|         Snack Foods|      Small| 48357.89|\n",
      "|              Others|     Medium|  6647.48|\n",
      "|              Others|      Small|  7583.91|\n",
      "|         Snack Foods|     Medium| 60701.91|\n",
      "|           Household|      Small| 39569.12|\n",
      "|              Canned|     Medium| 29973.09|\n",
      "|              Breads|       High|  3343.97|\n",
      "|           Household|       High| 15151.04|\n",
      "+--------------------+-----------+---------+\n",
      "only showing top 20 rows\n",
      "\n"
     ]
    }
   ],
   "source": [
    "# Find the sum of the Item_MRP by each Item_Type and Outlet_Size\n",
    "df.groupBy('Item_Type', 'Outlet_Size')\\\n",
    "    .agg(round(sum(col('Item_MRP')),2)\\\n",
    "    .alias('Total MRP'))\\\n",
    "    .dropna(subset=['Outlet_Size'])\\\n",
    "    .show()"
   ]
  },
  {
   "cell_type": "code",
   "execution_count": 77,
   "id": "209eea0f-92f9-4913-87df-37fcfd902ea0",
   "metadata": {},
   "outputs": [
    {
     "name": "stdout",
     "output_type": "stream",
     "text": [
      "+--------------------+-----------+---------+-----------+\n",
      "|           Item_Type|Outlet_Size|Total_MRP|Average_MRP|\n",
      "+--------------------+-----------+---------+-----------+\n",
      "|       Starchy Foods|     Medium|  7124.14|     148.42|\n",
      "|Fruits and Vegeta...|     Medium| 59047.22|     142.97|\n",
      "|        Frozen Foods|       High| 12588.29|     136.83|\n",
      "|         Soft Drinks|       High|  6456.17|     131.76|\n",
      "|           Breakfast|      Small|  3917.04|     130.57|\n",
      "|                Meat|     Medium| 20326.45|     136.42|\n",
      "|Fruits and Vegeta...|       High| 20671.35|     145.57|\n",
      "|                Meat|       High|  5627.04|     137.24|\n",
      "|        Baking Goods|       High|  9431.75|      129.2|\n",
      "|           Household|     Medium| 42688.57|     147.71|\n",
      "|         Hard Drinks|      Small|  6487.94|     129.76|\n",
      "|               Dairy|       High| 12280.73|     153.51|\n",
      "|         Snack Foods|      Small| 48357.89|     144.35|\n",
      "|              Others|     Medium|  6647.48|     127.84|\n",
      "|              Others|      Small|  7583.91|     137.89|\n",
      "|         Snack Foods|     Medium| 60701.91|     148.78|\n",
      "|           Household|      Small| 39569.12|     153.97|\n",
      "|              Canned|     Medium| 29973.09|     138.12|\n",
      "|              Breads|       High|  3343.97|     133.76|\n",
      "|           Household|       High| 15151.04|      147.1|\n",
      "+--------------------+-----------+---------+-----------+\n",
      "only showing top 20 rows\n",
      "\n"
     ]
    }
   ],
   "source": [
    "# Find the sum and average of the Item_MRP by each Item_Type and Outlet_Size\n",
    "df.groupBy('Item_Type','Outlet_Size')\\\n",
    "    .agg(\n",
    "      round(sum(col('Item_MRP')), 2).alias('Total_MRP'),\n",
    "      round(avg(col('Item_MRP')), 2).alias('Average_MRP')\n",
    "  )\\\n",
    "    .dropna(subset=['Outlet_Size'])\\\n",
    "    .show()"
   ]
  },
  {
   "cell_type": "markdown",
   "id": "111b60ac-6638-4bc4-999a-45fc2edb1c34",
   "metadata": {},
   "source": [
    "## Collect_List()\n",
    "Alternative to group_concat in SQL"
   ]
  },
  {
   "cell_type": "code",
   "execution_count": 78,
   "id": "9d06774a-47c6-4315-86d5-77c9d127f2f1",
   "metadata": {},
   "outputs": [
    {
     "name": "stdout",
     "output_type": "stream",
     "text": [
      "+-----+-----+\n",
      "| user| book|\n",
      "+-----+-----+\n",
      "|user1|book1|\n",
      "|user1|book2|\n",
      "|user2|book2|\n",
      "|user2|book4|\n",
      "|user3|book1|\n",
      "+-----+-----+\n",
      "\n"
     ]
    }
   ],
   "source": [
    "data_cl = [\n",
    "    ('user1','book1'),\n",
    "    ('user1','book2'),\n",
    "    ('user2','book2'),\n",
    "    ('user2','book4'),\n",
    "    ('user3','book1'),\n",
    "]\n",
    "\n",
    "schema_cl = StructType([\n",
    "    StructField('user',StringType(),True),\n",
    "    StructField('book',StringType(),True)\n",
    "])\n",
    "\n",
    "df_cl = spark.createDataFrame(data_cl,schema_cl)\n",
    "\n",
    "df_cl.show()"
   ]
  },
  {
   "cell_type": "code",
   "execution_count": 80,
   "id": "b14c4edd-4695-47a2-920e-660ca92aa106",
   "metadata": {},
   "outputs": [
    {
     "name": "stdout",
     "output_type": "stream",
     "text": [
      "+-----+------------------+\n",
      "| user|collect_list(book)|\n",
      "+-----+------------------+\n",
      "|user1|    [book1, book2]|\n",
      "|user2|    [book2, book4]|\n",
      "|user3|           [book1]|\n",
      "+-----+------------------+\n",
      "\n"
     ]
    }
   ],
   "source": [
    "df_cl.groupBy('user').agg(collect_list('book')).show()"
   ]
  }
 ],
 "metadata": {
  "kernelspec": {
   "display_name": "Python 3 (ipykernel)",
   "language": "python",
   "name": "python3"
  },
  "language_info": {
   "codemirror_mode": {
    "name": "ipython",
    "version": 3
   },
   "file_extension": ".py",
   "mimetype": "text/x-python",
   "name": "python",
   "nbconvert_exporter": "python",
   "pygments_lexer": "ipython3",
   "version": "3.10.11"
  }
 },
 "nbformat": 4,
 "nbformat_minor": 5
}
