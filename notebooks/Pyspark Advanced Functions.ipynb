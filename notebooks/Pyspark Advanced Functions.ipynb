{
 "cells": [
  {
   "cell_type": "code",
   "execution_count": 1,
   "id": "ca805533-3dd8-40ac-bea2-1abb146ff4c7",
   "metadata": {},
   "outputs": [],
   "source": [
    "import spark_env\n",
    "\n",
    "spark = spark_env.create_spark_session('pyspark_advanced_functions')"
   ]
  },
  {
   "cell_type": "code",
   "execution_count": 2,
   "id": "a1d579c6-88bd-4315-90e2-a30fa548327c",
   "metadata": {},
   "outputs": [],
   "source": [
    "from pyspark.sql.functions import *\n",
    "from pyspark.sql.types import *"
   ]
  },
  {
   "cell_type": "code",
   "execution_count": 3,
   "id": "3b908d4a-a7f2-46cb-8f93-7ff3ef927953",
   "metadata": {},
   "outputs": [],
   "source": [
    "df = spark.read.format('csv')\\\n",
    "                .option('header',True)\\\n",
    "                .option('inferSchema',True)\\\n",
    "                .load('BigMart Sales.csv')"
   ]
  },
  {
   "cell_type": "code",
   "execution_count": 8,
   "id": "8aa1351b-fafb-40aa-8446-6085e826027a",
   "metadata": {},
   "outputs": [
    {
     "name": "stdout",
     "output_type": "stream",
     "text": [
      "+------------+-----------+--------+\n",
      "|   Item_Type|Outlet_Size|Item_MRP|\n",
      "+------------+-----------+--------+\n",
      "|       Dairy|     Medium|249.8092|\n",
      "| Soft Drinks|     Medium| 48.2692|\n",
      "|        Meat|     Medium| 141.618|\n",
      "|   Household|       High| 53.8614|\n",
      "|Baking Goods|     Medium| 51.4008|\n",
      "+------------+-----------+--------+\n",
      "only showing top 5 rows\n",
      "\n"
     ]
    }
   ],
   "source": [
    "pivot_df_sample = df.select(col('Item_Type'),col('Outlet_Size'),col('Item_MRP')).dropna(subset=['Outlet_Size'])\n",
    "pivot_df_sample.show(5)"
   ]
  },
  {
   "cell_type": "markdown",
   "id": "f9137356-1602-44d0-882e-61e5662e6b18",
   "metadata": {},
   "source": [
    "## Pivot"
   ]
  },
  {
   "cell_type": "code",
   "execution_count": 10,
   "id": "15715ab9-7671-4b74-ace8-8d0373b8350d",
   "metadata": {},
   "outputs": [
    {
     "name": "stdout",
     "output_type": "stream",
     "text": [
      "+--------------------+------+------+------+\n",
      "|           Item_Type|  High|Medium| Small|\n",
      "+--------------------+------+------+------+\n",
      "|       Starchy Foods|158.16|148.42|150.27|\n",
      "|        Baking Goods| 129.2|126.18|125.21|\n",
      "|              Breads|133.76|140.86|145.52|\n",
      "|Fruits and Vegeta...|145.57|142.97|148.31|\n",
      "|                Meat|137.24|136.42| 145.7|\n",
      "+--------------------+------+------+------+\n",
      "only showing top 5 rows\n",
      "\n"
     ]
    }
   ],
   "source": [
    "pivot_df_sample.groupBy('Item_Type').pivot('Outlet_Size').agg(round(avg('Item_MRP'),2)).show(5)"
   ]
  },
  {
   "cell_type": "markdown",
   "id": "ffbab159-c812-4900-8b1a-eba6db21370c",
   "metadata": {},
   "source": [
    "## When-Otherwise\n",
    "\n",
    "1. Create a column that classifies a row into 'Veg' or 'Non-veg' based on the item in the 'Item_Type' column\n",
    "2. Create a column in which we will identify if the item is vegetrian, if yes and the mrp is more than 100 then expensive-veg else non-expensive."
   ]
  },
  {
   "cell_type": "code",
   "execution_count": 13,
   "id": "4e3cb831-f13b-4451-8bf4-f79e116ef0aa",
   "metadata": {},
   "outputs": [
    {
     "name": "stdout",
     "output_type": "stream",
     "text": [
      "+---------------+-----------+----------------+---------------+--------------------+--------+-----------------+-------------------------+-----------+--------------------+-----------------+-----------------+--------------+\n",
      "|Item_Identifier|Item_Weight|Item_Fat_Content|Item_Visibility|           Item_Type|Item_MRP|Outlet_Identifier|Outlet_Establishment_Year|Outlet_Size|Outlet_Location_Type|      Outlet_Type|Item_Outlet_Sales|  cuisine-flag|\n",
      "+---------------+-----------+----------------+---------------+--------------------+--------+-----------------+-------------------------+-----------+--------------------+-----------------+-----------------+--------------+\n",
      "|          FDA15|        9.3|         Low Fat|    0.016047301|               Dairy|249.8092|           OUT049|                     1999|     Medium|              Tier 1|Supermarket Type1|         3735.138|    Vegeterian|\n",
      "|          DRC01|       5.92|         Regular|    0.019278216|         Soft Drinks| 48.2692|           OUT018|                     2009|     Medium|              Tier 3|Supermarket Type2|         443.4228|    Vegeterian|\n",
      "|          FDN15|       17.5|         Low Fat|    0.016760075|                Meat| 141.618|           OUT049|                     1999|     Medium|              Tier 1|Supermarket Type1|          2097.27|Non-Vegeterian|\n",
      "|          FDX07|       19.2|         Regular|            0.0|Fruits and Vegeta...| 182.095|           OUT010|                     1998|       NULL|              Tier 3|    Grocery Store|           732.38|    Vegeterian|\n",
      "|          NCD19|       8.93|         Low Fat|            0.0|           Household| 53.8614|           OUT013|                     1987|       High|              Tier 3|Supermarket Type1|         994.7052|    Vegeterian|\n",
      "+---------------+-----------+----------------+---------------+--------------------+--------+-----------------+-------------------------+-----------+--------------------+-----------------+-----------------+--------------+\n",
      "only showing top 5 rows\n",
      "\n"
     ]
    }
   ],
   "source": [
    "df = df.withColumn('cuisine-flag',when(col('Item_type')=='Meat','Non-Vegeterian').otherwise('Vegeterian'))\n",
    "df.show(5)"
   ]
  },
  {
   "cell_type": "code",
   "execution_count": 15,
   "id": "66655d16-41be-4b68-b245-305500515553",
   "metadata": {},
   "outputs": [
    {
     "name": "stdout",
     "output_type": "stream",
     "text": [
      "+---------------+-----------+----------------+---------------+--------------------+--------+-----------------+-------------------------+-----------+--------------------+-----------------+-----------------+--------------+-----------------------+\n",
      "|Item_Identifier|Item_Weight|Item_Fat_Content|Item_Visibility|           Item_Type|Item_MRP|Outlet_Identifier|Outlet_Establishment_Year|Outlet_Size|Outlet_Location_Type|      Outlet_Type|Item_Outlet_Sales|  cuisine-flag|Vegeterian_expense_flag|\n",
      "+---------------+-----------+----------------+---------------+--------------------+--------+-----------------+-------------------------+-----------+--------------------+-----------------+-----------------+--------------+-----------------------+\n",
      "|          FDA15|        9.3|         Low Fat|    0.016047301|               Dairy|249.8092|           OUT049|                     1999|     Medium|              Tier 1|Supermarket Type1|         3735.138|    Vegeterian|              Expensive|\n",
      "|          DRC01|       5.92|         Regular|    0.019278216|         Soft Drinks| 48.2692|           OUT018|                     2009|     Medium|              Tier 3|Supermarket Type2|         443.4228|    Vegeterian|            Inexpensive|\n",
      "|          FDN15|       17.5|         Low Fat|    0.016760075|                Meat| 141.618|           OUT049|                     1999|     Medium|              Tier 1|Supermarket Type1|          2097.27|Non-Vegeterian|                Non-Veg|\n",
      "|          FDX07|       19.2|         Regular|            0.0|Fruits and Vegeta...| 182.095|           OUT010|                     1998|       NULL|              Tier 3|    Grocery Store|           732.38|    Vegeterian|              Expensive|\n",
      "|          NCD19|       8.93|         Low Fat|            0.0|           Household| 53.8614|           OUT013|                     1987|       High|              Tier 3|Supermarket Type1|         994.7052|    Vegeterian|            Inexpensive|\n",
      "+---------------+-----------+----------------+---------------+--------------------+--------+-----------------+-------------------------+-----------+--------------------+-----------------+-----------------+--------------+-----------------------+\n",
      "only showing top 5 rows\n",
      "\n"
     ]
    }
   ],
   "source": [
    "df.withColumn('Vegeterian_expense_flag',when((col('cuisine-flag')=='Vegeterian') & (col('Item_MRP')<100),'Inexpensive')\\\n",
    "                    .when((col('cuisine-flag')=='Vegeterian') & (col('Item_MRP')>100),'Expensive')\\\n",
    "                    .otherwise('Non-Veg')).show(5)"
   ]
  },
  {
   "cell_type": "code",
   "execution_count": null,
   "id": "45d69674-187b-4ee6-a317-199b0466a446",
   "metadata": {},
   "outputs": [],
   "source": []
  }
 ],
 "metadata": {
  "kernelspec": {
   "display_name": "Python 3 (ipykernel)",
   "language": "python",
   "name": "python3"
  },
  "language_info": {
   "codemirror_mode": {
    "name": "ipython",
    "version": 3
   },
   "file_extension": ".py",
   "mimetype": "text/x-python",
   "name": "python",
   "nbconvert_exporter": "python",
   "pygments_lexer": "ipython3",
   "version": "3.10.11"
  }
 },
 "nbformat": 4,
 "nbformat_minor": 5
}
